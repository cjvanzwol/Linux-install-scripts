{
 "cells": [
  {
   "cell_type": "code",
   "execution_count": null,
   "metadata": {},
   "outputs": [],
   "source": [
    "echo \"Installing language servers\"\n",
    "if [[ $(which npm) == \"\"]]; then\n",
    "    echo \"Installing npm\"\n",
    "    curl -L https://npmjs.org/install.sh | sudo sh\n",
    "fi"
   ]
  },
  {
   "cell_type": "code",
   "execution_count": 1,
   "metadata": {},
   "outputs": [
    {
     "name": "stdout",
     "output_type": "stream",
     "text": [
      "Looking in indexes: https://pypi.org/simple, https://www.piwheels.org/simple\n",
      "Requirement already satisfied: jupyterlab<3.0.0a0,>=2.2 in /home/pi/.local/lib/python3.7/site-packages (2.2.9)\n",
      "Collecting jupyter-lsp\n",
      "  Using cached https://www.piwheels.org/simple/jupyter-lsp/jupyter_lsp-0.9.2-py3-none-any.whl\n",
      "Requirement already satisfied: jinja2>=2.10 in /home/pi/.local/lib/python3.7/site-packages (from jupyterlab<3.0.0a0,>=2.2) (2.11.2)\n",
      "Requirement already satisfied: jupyterlab-server<2.0,>=1.1.5 in /home/pi/.local/lib/python3.7/site-packages (from jupyterlab<3.0.0a0,>=2.2) (1.2.0)\n",
      "Requirement already satisfied: notebook>=4.3.1 in /home/pi/.local/lib/python3.7/site-packages (from jupyterlab<3.0.0a0,>=2.2) (6.1.4)\n",
      "Requirement already satisfied: tornado!=6.0.0,!=6.0.1,!=6.0.2 in /home/pi/.local/lib/python3.7/site-packages (from jupyterlab<3.0.0a0,>=2.2) (6.0.4)\n",
      "Requirement already satisfied: setuptools in /usr/lib/python3/dist-packages (from jupyter-lsp) (40.8.0)\n",
      "Requirement already satisfied: MarkupSafe>=0.23 in /home/pi/.local/lib/python3.7/site-packages (from jinja2>=2.10->jupyterlab<3.0.0a0,>=2.2) (1.1.1)\n",
      "Requirement already satisfied: json5 in /home/pi/.local/lib/python3.7/site-packages (from jupyterlab-server<2.0,>=1.1.5->jupyterlab<3.0.0a0,>=2.2) (0.9.5)\n",
      "Requirement already satisfied: requests in /home/pi/.local/lib/python3.7/site-packages (from jupyterlab-server<2.0,>=1.1.5->jupyterlab<3.0.0a0,>=2.2) (2.24.0)\n",
      "Requirement already satisfied: jsonschema>=3.0.1 in /home/pi/.local/lib/python3.7/site-packages (from jupyterlab-server<2.0,>=1.1.5->jupyterlab<3.0.0a0,>=2.2) (3.2.0)\n",
      "Requirement already satisfied: traitlets>=4.2.1 in /home/pi/.local/lib/python3.7/site-packages (from notebook>=4.3.1->jupyterlab<3.0.0a0,>=2.2) (5.0.5)\n",
      "Requirement already satisfied: nbconvert in /home/pi/.local/lib/python3.7/site-packages (from notebook>=4.3.1->jupyterlab<3.0.0a0,>=2.2) (6.0.7)\n",
      "Requirement already satisfied: jupyter-client>=5.3.4 in /home/pi/.local/lib/python3.7/site-packages (from notebook>=4.3.1->jupyterlab<3.0.0a0,>=2.2) (6.1.7)\n",
      "Requirement already satisfied: pyzmq>=17 in /home/pi/.local/lib/python3.7/site-packages (from notebook>=4.3.1->jupyterlab<3.0.0a0,>=2.2) (19.0.2)\n",
      "Requirement already satisfied: prometheus-client in /home/pi/.local/lib/python3.7/site-packages (from notebook>=4.3.1->jupyterlab<3.0.0a0,>=2.2) (0.8.0)\n",
      "Requirement already satisfied: ipython-genutils in /home/pi/.local/lib/python3.7/site-packages (from notebook>=4.3.1->jupyterlab<3.0.0a0,>=2.2) (0.2.0)\n",
      "Requirement already satisfied: argon2-cffi in /home/pi/.local/lib/python3.7/site-packages (from notebook>=4.3.1->jupyterlab<3.0.0a0,>=2.2) (20.1.0)\n",
      "Requirement already satisfied: nbformat in /home/pi/.local/lib/python3.7/site-packages (from notebook>=4.3.1->jupyterlab<3.0.0a0,>=2.2) (5.0.8)\n",
      "Requirement already satisfied: jupyter-core>=4.6.1 in /home/pi/.local/lib/python3.7/site-packages (from notebook>=4.3.1->jupyterlab<3.0.0a0,>=2.2) (4.6.3)\n",
      "Requirement already satisfied: terminado>=0.8.3 in /home/pi/.local/lib/python3.7/site-packages (from notebook>=4.3.1->jupyterlab<3.0.0a0,>=2.2) (0.9.1)\n",
      "Requirement already satisfied: Send2Trash in /home/pi/.local/lib/python3.7/site-packages (from notebook>=4.3.1->jupyterlab<3.0.0a0,>=2.2) (1.5.0)\n",
      "Requirement already satisfied: ipykernel in /home/pi/.local/lib/python3.7/site-packages (from notebook>=4.3.1->jupyterlab<3.0.0a0,>=2.2) (5.3.4)\n",
      "Requirement already satisfied: urllib3!=1.25.0,!=1.25.1,<1.26,>=1.21.1 in /home/pi/.local/lib/python3.7/site-packages (from requests->jupyterlab-server<2.0,>=1.1.5->jupyterlab<3.0.0a0,>=2.2) (1.25.11)\n",
      "Requirement already satisfied: certifi>=2017.4.17 in /home/pi/.local/lib/python3.7/site-packages (from requests->jupyterlab-server<2.0,>=1.1.5->jupyterlab<3.0.0a0,>=2.2) (2020.6.20)\n",
      "Requirement already satisfied: idna<3,>=2.5 in /home/pi/.local/lib/python3.7/site-packages (from requests->jupyterlab-server<2.0,>=1.1.5->jupyterlab<3.0.0a0,>=2.2) (2.10)\n",
      "Requirement already satisfied: chardet<4,>=3.0.2 in /home/pi/.local/lib/python3.7/site-packages (from requests->jupyterlab-server<2.0,>=1.1.5->jupyterlab<3.0.0a0,>=2.2) (3.0.4)\n",
      "Requirement already satisfied: six>=1.11.0 in /home/pi/.local/lib/python3.7/site-packages (from jsonschema>=3.0.1->jupyterlab-server<2.0,>=1.1.5->jupyterlab<3.0.0a0,>=2.2) (1.15.0)\n",
      "Requirement already satisfied: pyrsistent>=0.14.0 in /home/pi/.local/lib/python3.7/site-packages (from jsonschema>=3.0.1->jupyterlab-server<2.0,>=1.1.5->jupyterlab<3.0.0a0,>=2.2) (0.17.3)\n",
      "Requirement already satisfied: attrs>=17.4.0 in /home/pi/.local/lib/python3.7/site-packages (from jsonschema>=3.0.1->jupyterlab-server<2.0,>=1.1.5->jupyterlab<3.0.0a0,>=2.2) (20.2.0)\n",
      "Requirement already satisfied: importlib-metadata; python_version < \"3.8\" in /home/pi/.local/lib/python3.7/site-packages (from jsonschema>=3.0.1->jupyterlab-server<2.0,>=1.1.5->jupyterlab<3.0.0a0,>=2.2) (2.0.0)\n",
      "Requirement already satisfied: mistune<2,>=0.8.1 in /home/pi/.local/lib/python3.7/site-packages (from nbconvert->notebook>=4.3.1->jupyterlab<3.0.0a0,>=2.2) (0.8.4)\n",
      "Requirement already satisfied: pandocfilters>=1.4.1 in /home/pi/.local/lib/python3.7/site-packages (from nbconvert->notebook>=4.3.1->jupyterlab<3.0.0a0,>=2.2) (1.4.3)\n",
      "Requirement already satisfied: jupyterlab-pygments in /home/pi/.local/lib/python3.7/site-packages (from nbconvert->notebook>=4.3.1->jupyterlab<3.0.0a0,>=2.2) (0.1.2)\n",
      "Requirement already satisfied: bleach in /home/pi/.local/lib/python3.7/site-packages (from nbconvert->notebook>=4.3.1->jupyterlab<3.0.0a0,>=2.2) (3.2.1)\n",
      "Requirement already satisfied: testpath in /home/pi/.local/lib/python3.7/site-packages (from nbconvert->notebook>=4.3.1->jupyterlab<3.0.0a0,>=2.2) (0.4.4)\n",
      "Requirement already satisfied: defusedxml in /home/pi/.local/lib/python3.7/site-packages (from nbconvert->notebook>=4.3.1->jupyterlab<3.0.0a0,>=2.2) (0.6.0)\n",
      "Requirement already satisfied: entrypoints>=0.2.2 in /usr/lib/python3/dist-packages (from nbconvert->notebook>=4.3.1->jupyterlab<3.0.0a0,>=2.2) (0.3)\n",
      "Requirement already satisfied: nbclient<0.6.0,>=0.5.0 in /home/pi/.local/lib/python3.7/site-packages (from nbconvert->notebook>=4.3.1->jupyterlab<3.0.0a0,>=2.2) (0.5.1)\n",
      "Requirement already satisfied: pygments>=2.4.1 in /home/pi/.local/lib/python3.7/site-packages (from nbconvert->notebook>=4.3.1->jupyterlab<3.0.0a0,>=2.2) (2.7.2)\n",
      "Requirement already satisfied: python-dateutil>=2.1 in /home/pi/.local/lib/python3.7/site-packages (from jupyter-client>=5.3.4->notebook>=4.3.1->jupyterlab<3.0.0a0,>=2.2) (2.8.1)\n",
      "Requirement already satisfied: cffi>=1.0.0 in /usr/local/lib/python3.7/dist-packages (from argon2-cffi->notebook>=4.3.1->jupyterlab<3.0.0a0,>=2.2) (1.14.3)\n",
      "Requirement already satisfied: ptyprocess; os_name != \"nt\" in /home/pi/.local/lib/python3.7/site-packages (from terminado>=0.8.3->notebook>=4.3.1->jupyterlab<3.0.0a0,>=2.2) (0.6.0)\n",
      "Requirement already satisfied: ipython>=5.0.0 in /home/pi/.local/lib/python3.7/site-packages (from ipykernel->notebook>=4.3.1->jupyterlab<3.0.0a0,>=2.2) (7.18.1)\n",
      "Requirement already satisfied: zipp>=0.5 in /home/pi/.local/lib/python3.7/site-packages (from importlib-metadata; python_version < \"3.8\"->jsonschema>=3.0.1->jupyterlab-server<2.0,>=1.1.5->jupyterlab<3.0.0a0,>=2.2) (3.4.0)\n",
      "Requirement already satisfied: packaging in /home/pi/.local/lib/python3.7/site-packages (from bleach->nbconvert->notebook>=4.3.1->jupyterlab<3.0.0a0,>=2.2) (20.4)\n",
      "Requirement already satisfied: webencodings in /home/pi/.local/lib/python3.7/site-packages (from bleach->nbconvert->notebook>=4.3.1->jupyterlab<3.0.0a0,>=2.2) (0.5.1)\n",
      "Requirement already satisfied: nest-asyncio in /home/pi/.local/lib/python3.7/site-packages (from nbclient<0.6.0,>=0.5.0->nbconvert->notebook>=4.3.1->jupyterlab<3.0.0a0,>=2.2) (1.4.2)\n",
      "Requirement already satisfied: async-generator in /home/pi/.local/lib/python3.7/site-packages (from nbclient<0.6.0,>=0.5.0->nbconvert->notebook>=4.3.1->jupyterlab<3.0.0a0,>=2.2) (1.10)\n",
      "Requirement already satisfied: pycparser in /usr/local/lib/python3.7/dist-packages (from cffi>=1.0.0->argon2-cffi->notebook>=4.3.1->jupyterlab<3.0.0a0,>=2.2) (2.20)\n",
      "Requirement already satisfied: decorator in /home/pi/.local/lib/python3.7/site-packages (from ipython>=5.0.0->ipykernel->notebook>=4.3.1->jupyterlab<3.0.0a0,>=2.2) (4.4.2)\n",
      "Requirement already satisfied: prompt-toolkit!=3.0.0,!=3.0.1,<3.1.0,>=2.0.0 in /home/pi/.local/lib/python3.7/site-packages (from ipython>=5.0.0->ipykernel->notebook>=4.3.1->jupyterlab<3.0.0a0,>=2.2) (3.0.8)\n",
      "Requirement already satisfied: backcall in /home/pi/.local/lib/python3.7/site-packages (from ipython>=5.0.0->ipykernel->notebook>=4.3.1->jupyterlab<3.0.0a0,>=2.2) (0.2.0)\n",
      "Requirement already satisfied: pickleshare in /home/pi/.local/lib/python3.7/site-packages (from ipython>=5.0.0->ipykernel->notebook>=4.3.1->jupyterlab<3.0.0a0,>=2.2) (0.7.5)\n",
      "Requirement already satisfied: pexpect>4.3; sys_platform != \"win32\" in /home/pi/.local/lib/python3.7/site-packages (from ipython>=5.0.0->ipykernel->notebook>=4.3.1->jupyterlab<3.0.0a0,>=2.2) (4.8.0)\n",
      "Requirement already satisfied: jedi>=0.10 in /home/pi/.local/lib/python3.7/site-packages (from ipython>=5.0.0->ipykernel->notebook>=4.3.1->jupyterlab<3.0.0a0,>=2.2) (0.17.2)\n",
      "Requirement already satisfied: pyparsing>=2.0.2 in /home/pi/.local/lib/python3.7/site-packages (from packaging->bleach->nbconvert->notebook>=4.3.1->jupyterlab<3.0.0a0,>=2.2) (2.4.7)\n",
      "Requirement already satisfied: wcwidth in /home/pi/.local/lib/python3.7/site-packages (from prompt-toolkit!=3.0.0,!=3.0.1,<3.1.0,>=2.0.0->ipython>=5.0.0->ipykernel->notebook>=4.3.1->jupyterlab<3.0.0a0,>=2.2) (0.2.5)\n",
      "Requirement already satisfied: parso<0.8.0,>=0.7.0 in /home/pi/.local/lib/python3.7/site-packages (from jedi>=0.10->ipython>=5.0.0->ipykernel->notebook>=4.3.1->jupyterlab<3.0.0a0,>=2.2) (0.7.1)\n",
      "Installing collected packages: jupyter-lsp\n",
      "Successfully installed jupyter-lsp-0.9.2\n"
     ]
    }
   ],
   "source": [
    "pip3 install 'jupyterlab>=2.2,<3.0.0a0' jupyter-lsp"
   ]
  },
  {
   "cell_type": "code",
   "execution_count": 1,
   "metadata": {},
   "outputs": [
    {
     "name": "stdout",
     "output_type": "stream",
     "text": [
      "\u001b[K\u001b[?25h     \u001b[27m\u001b[90m.........\u001b[0m] | idealTree: \u001b[32;40mtiming\u001b[0m \u001b[35midealTree\u001b[0m Completed in 6823ms\u001b[0m\u001b[K\n",
      "removed 201 packages, and audited 115 packages in 15s\n",
      "\n",
      "found 0 vulnerabilities\n"
     ]
    }
   ],
   "source": [
    "npm install --save-dev bash-language-server"
   ]
  },
  {
   "cell_type": "code",
   "execution_count": null,
   "metadata": {},
   "outputs": [],
   "source": [
    "npm install --save-dev javascript-typescript-langserver"
   ]
  },
  {
   "cell_type": "code",
   "execution_count": null,
   "metadata": {},
   "outputs": [],
   "source": [
    "npm install --save-dev unified-language-server"
   ]
  },
  {
   "cell_type": "code",
   "execution_count": null,
   "metadata": {},
   "outputs": [],
   "source": [
    "npm install --save-dev vscode-css-languageserver-bin"
   ]
  },
  {
   "cell_type": "code",
   "execution_count": null,
   "metadata": {},
   "outputs": [],
   "source": [
    "npm install --save-dev vscode-html-languageserver-bin"
   ]
  },
  {
   "cell_type": "code",
   "execution_count": null,
   "metadata": {},
   "outputs": [],
   "source": [
    "npm install --save-dev vscode-json-languageserver-bin"
   ]
  }
 ],
 "metadata": {
  "kernelspec": {
   "display_name": "Bash",
   "language": "bash",
   "name": "bash"
  },
  "language_info": {
   "codemirror_mode": "shell",
   "file_extension": ".sh",
   "mimetype": "text/x-sh",
   "name": "bash"
  }
 },
 "nbformat": 4,
 "nbformat_minor": 4
}
