{
 "cells": [
  {
   "cell_type": "code",
   "execution_count": null,
   "metadata": {},
   "outputs": [],
   "source": [
    "# notofocations\n",
    "bash ./pushbullet"
   ]
  },
  {
   "cell_type": "code",
   "execution_count": null,
   "metadata": {},
   "outputs": [],
   "source": [
    "echo \"Installing kernels\"\n",
    "echo \"bash\"\n",
    "pip3 install -q bash_kernel\n",
    "python3 -m bash_kernel.install\n",
    "\n",
    "echo \"nodejs\"\n",
    "git clone https://github.com/notablemind/jupyter-nodejs.git\n",
    "cd jupyter-nodejs\n",
    "mkdir -p ~/.ipython/kernels/nodejs/\n",
    "npm install && node install.js\n",
    "npm run build\n",
    "npm run build-ext\n",
    "cd ~\n",
    "sudo rm -R jupyter-nodejs\n",
    "jupyter console --kernel nodejs"
   ]
  }
 ],
 "metadata": {
  "kernelspec": {
   "display_name": "Bash",
   "language": "bash",
   "name": "bash"
  },
  "language_info": {
   "codemirror_mode": "shell",
   "file_extension": ".sh",
   "mimetype": "text/x-sh",
   "name": "bash"
  }
 },
 "nbformat": 4,
 "nbformat_minor": 4
}
