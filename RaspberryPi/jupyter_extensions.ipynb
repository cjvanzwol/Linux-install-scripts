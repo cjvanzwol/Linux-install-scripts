{
 "cells": [
  {
   "cell_type": "code",
   "execution_count": null,
   "metadata": {},
   "outputs": [],
   "source": [
    "### Notifications"
   ]
  },
  {
   "cell_type": "code",
   "execution_count": null,
   "metadata": {},
   "outputs": [],
   "source": [
    "bash ./pushbullet"
   ]
  },
  {
   "cell_type": "markdown",
   "metadata": {},
   "source": [
    "# Installing lab extensions\n",
    "## Git\n",
    "https://github.com/jupyterlab/jupyterlab-git"
   ]
  },
  {
   "cell_type": "code",
   "execution_count": 1,
   "metadata": {},
   "outputs": [
    {
     "name": "stdout",
     "output_type": "stream",
     "text": [
      "Looking in indexes: https://pypi.org/simple, https://www.piwheels.org/simple\n",
      "Requirement already satisfied: jupyterlab-git in /home/pi/.local/lib/python3.7/site-packages (0.22.2)\n",
      "Requirement already satisfied: notebook in /home/pi/.local/lib/python3.7/site-packages (from jupyterlab-git) (6.1.4)\n",
      "Requirement already satisfied: pexpect in /home/pi/.local/lib/python3.7/site-packages (from jupyterlab-git) (4.8.0)\n",
      "Requirement already satisfied: nbdime~=2.0 in /home/pi/.local/lib/python3.7/site-packages (from jupyterlab-git) (2.1.0)\n",
      "Requirement already satisfied: packaging in /home/pi/.local/lib/python3.7/site-packages (from jupyterlab-git) (20.4)\n",
      "Requirement already satisfied: nbformat in /home/pi/.local/lib/python3.7/site-packages (from notebook->jupyterlab-git) (5.0.8)\n",
      "Requirement already satisfied: ipython-genutils in /home/pi/.local/lib/python3.7/site-packages (from notebook->jupyterlab-git) (0.2.0)\n",
      "Requirement already satisfied: Send2Trash in /home/pi/.local/lib/python3.7/site-packages (from notebook->jupyterlab-git) (1.5.0)\n",
      "Requirement already satisfied: traitlets>=4.2.1 in /home/pi/.local/lib/python3.7/site-packages (from notebook->jupyterlab-git) (5.0.5)\n",
      "Requirement already satisfied: argon2-cffi in /home/pi/.local/lib/python3.7/site-packages (from notebook->jupyterlab-git) (20.1.0)\n",
      "Requirement already satisfied: jinja2 in /home/pi/.local/lib/python3.7/site-packages (from notebook->jupyterlab-git) (2.11.2)\n",
      "Requirement already satisfied: terminado>=0.8.3 in /home/pi/.local/lib/python3.7/site-packages (from notebook->jupyterlab-git) (0.9.1)\n",
      "Requirement already satisfied: jupyter-core>=4.6.1 in /home/pi/.local/lib/python3.7/site-packages (from notebook->jupyterlab-git) (4.6.3)\n",
      "Requirement already satisfied: nbconvert in /home/pi/.local/lib/python3.7/site-packages (from notebook->jupyterlab-git) (6.0.7)\n",
      "Requirement already satisfied: prometheus-client in /home/pi/.local/lib/python3.7/site-packages (from notebook->jupyterlab-git) (0.8.0)\n",
      "Requirement already satisfied: pyzmq>=17 in /home/pi/.local/lib/python3.7/site-packages (from notebook->jupyterlab-git) (19.0.2)\n",
      "Requirement already satisfied: tornado>=5.0 in /home/pi/.local/lib/python3.7/site-packages (from notebook->jupyterlab-git) (6.0.4)\n",
      "Requirement already satisfied: ipykernel in /home/pi/.local/lib/python3.7/site-packages (from notebook->jupyterlab-git) (5.3.4)\n",
      "Requirement already satisfied: jupyter-client>=5.3.4 in /home/pi/.local/lib/python3.7/site-packages (from notebook->jupyterlab-git) (6.1.7)\n",
      "Requirement already satisfied: ptyprocess>=0.5 in /home/pi/.local/lib/python3.7/site-packages (from pexpect->jupyterlab-git) (0.6.0)\n",
      "Requirement already satisfied: requests in /home/pi/.local/lib/python3.7/site-packages (from nbdime~=2.0->jupyterlab-git) (2.24.0)\n",
      "Requirement already satisfied: GitPython!=2.1.4,!=2.1.5,!=2.1.6 in /home/pi/.local/lib/python3.7/site-packages (from nbdime~=2.0->jupyterlab-git) (3.1.11)\n",
      "Requirement already satisfied: six in /home/pi/.local/lib/python3.7/site-packages (from nbdime~=2.0->jupyterlab-git) (1.15.0)\n",
      "Requirement already satisfied: pygments in /home/pi/.local/lib/python3.7/site-packages (from nbdime~=2.0->jupyterlab-git) (2.7.2)\n",
      "Requirement already satisfied: colorama in /home/pi/.local/lib/python3.7/site-packages (from nbdime~=2.0->jupyterlab-git) (0.4.4)\n",
      "Requirement already satisfied: pyparsing>=2.0.2 in /home/pi/.local/lib/python3.7/site-packages (from packaging->jupyterlab-git) (2.4.7)\n",
      "Requirement already satisfied: jsonschema!=2.5.0,>=2.4 in /home/pi/.local/lib/python3.7/site-packages (from nbformat->notebook->jupyterlab-git) (3.2.0)\n",
      "Requirement already satisfied: cffi>=1.0.0 in /usr/local/lib/python3.7/dist-packages (from argon2-cffi->notebook->jupyterlab-git) (1.14.3)\n",
      "Requirement already satisfied: MarkupSafe>=0.23 in /home/pi/.local/lib/python3.7/site-packages (from jinja2->notebook->jupyterlab-git) (1.1.1)\n",
      "Requirement already satisfied: jupyterlab-pygments in /home/pi/.local/lib/python3.7/site-packages (from nbconvert->notebook->jupyterlab-git) (0.1.2)\n",
      "Requirement already satisfied: bleach in /home/pi/.local/lib/python3.7/site-packages (from nbconvert->notebook->jupyterlab-git) (3.2.1)\n",
      "Requirement already satisfied: defusedxml in /home/pi/.local/lib/python3.7/site-packages (from nbconvert->notebook->jupyterlab-git) (0.6.0)\n",
      "Requirement already satisfied: nbclient<0.6.0,>=0.5.0 in /home/pi/.local/lib/python3.7/site-packages (from nbconvert->notebook->jupyterlab-git) (0.5.1)\n",
      "Requirement already satisfied: testpath in /home/pi/.local/lib/python3.7/site-packages (from nbconvert->notebook->jupyterlab-git) (0.4.4)\n",
      "Requirement already satisfied: mistune<2,>=0.8.1 in /home/pi/.local/lib/python3.7/site-packages (from nbconvert->notebook->jupyterlab-git) (0.8.4)\n",
      "Requirement already satisfied: entrypoints>=0.2.2 in /usr/lib/python3/dist-packages (from nbconvert->notebook->jupyterlab-git) (0.3)\n",
      "Requirement already satisfied: pandocfilters>=1.4.1 in /home/pi/.local/lib/python3.7/site-packages (from nbconvert->notebook->jupyterlab-git) (1.4.3)\n",
      "Requirement already satisfied: ipython>=5.0.0 in /home/pi/.local/lib/python3.7/site-packages (from ipykernel->notebook->jupyterlab-git) (7.18.1)\n",
      "Requirement already satisfied: python-dateutil>=2.1 in /home/pi/.local/lib/python3.7/site-packages (from jupyter-client>=5.3.4->notebook->jupyterlab-git) (2.8.1)\n",
      "Requirement already satisfied: idna<3,>=2.5 in /home/pi/.local/lib/python3.7/site-packages (from requests->nbdime~=2.0->jupyterlab-git) (2.10)\n",
      "Requirement already satisfied: urllib3!=1.25.0,!=1.25.1,<1.26,>=1.21.1 in /home/pi/.local/lib/python3.7/site-packages (from requests->nbdime~=2.0->jupyterlab-git) (1.25.11)\n",
      "Requirement already satisfied: chardet<4,>=3.0.2 in /home/pi/.local/lib/python3.7/site-packages (from requests->nbdime~=2.0->jupyterlab-git) (3.0.4)\n",
      "Requirement already satisfied: certifi>=2017.4.17 in /home/pi/.local/lib/python3.7/site-packages (from requests->nbdime~=2.0->jupyterlab-git) (2020.6.20)\n",
      "Requirement already satisfied: gitdb<5,>=4.0.1 in /home/pi/.local/lib/python3.7/site-packages (from GitPython!=2.1.4,!=2.1.5,!=2.1.6->nbdime~=2.0->jupyterlab-git) (4.0.5)\n",
      "Requirement already satisfied: importlib-metadata; python_version < \"3.8\" in /home/pi/.local/lib/python3.7/site-packages (from jsonschema!=2.5.0,>=2.4->nbformat->notebook->jupyterlab-git) (2.0.0)\n",
      "Requirement already satisfied: attrs>=17.4.0 in /home/pi/.local/lib/python3.7/site-packages (from jsonschema!=2.5.0,>=2.4->nbformat->notebook->jupyterlab-git) (20.2.0)\n",
      "Requirement already satisfied: pyrsistent>=0.14.0 in /home/pi/.local/lib/python3.7/site-packages (from jsonschema!=2.5.0,>=2.4->nbformat->notebook->jupyterlab-git) (0.17.3)\n",
      "Requirement already satisfied: setuptools in /usr/lib/python3/dist-packages (from jsonschema!=2.5.0,>=2.4->nbformat->notebook->jupyterlab-git) (40.8.0)\n",
      "Requirement already satisfied: pycparser in /usr/local/lib/python3.7/dist-packages (from cffi>=1.0.0->argon2-cffi->notebook->jupyterlab-git) (2.20)\n",
      "Requirement already satisfied: webencodings in /home/pi/.local/lib/python3.7/site-packages (from bleach->nbconvert->notebook->jupyterlab-git) (0.5.1)\n",
      "Requirement already satisfied: async-generator in /home/pi/.local/lib/python3.7/site-packages (from nbclient<0.6.0,>=0.5.0->nbconvert->notebook->jupyterlab-git) (1.10)\n",
      "Requirement already satisfied: nest-asyncio in /home/pi/.local/lib/python3.7/site-packages (from nbclient<0.6.0,>=0.5.0->nbconvert->notebook->jupyterlab-git) (1.4.2)\n",
      "Requirement already satisfied: jedi>=0.10 in /home/pi/.local/lib/python3.7/site-packages (from ipython>=5.0.0->ipykernel->notebook->jupyterlab-git) (0.17.2)\n",
      "Requirement already satisfied: pickleshare in /home/pi/.local/lib/python3.7/site-packages (from ipython>=5.0.0->ipykernel->notebook->jupyterlab-git) (0.7.5)\n",
      "Requirement already satisfied: decorator in /home/pi/.local/lib/python3.7/site-packages (from ipython>=5.0.0->ipykernel->notebook->jupyterlab-git) (4.4.2)\n",
      "Requirement already satisfied: prompt-toolkit!=3.0.0,!=3.0.1,<3.1.0,>=2.0.0 in /home/pi/.local/lib/python3.7/site-packages (from ipython>=5.0.0->ipykernel->notebook->jupyterlab-git) (3.0.8)\n",
      "Requirement already satisfied: backcall in /home/pi/.local/lib/python3.7/site-packages (from ipython>=5.0.0->ipykernel->notebook->jupyterlab-git) (0.2.0)\n",
      "Requirement already satisfied: smmap<4,>=3.0.1 in /home/pi/.local/lib/python3.7/site-packages (from gitdb<5,>=4.0.1->GitPython!=2.1.4,!=2.1.5,!=2.1.6->nbdime~=2.0->jupyterlab-git) (3.0.4)\n",
      "Requirement already satisfied: zipp>=0.5 in /home/pi/.local/lib/python3.7/site-packages (from importlib-metadata; python_version < \"3.8\"->jsonschema!=2.5.0,>=2.4->nbformat->notebook->jupyterlab-git) (3.4.0)\n",
      "Requirement already satisfied: parso<0.8.0,>=0.7.0 in /home/pi/.local/lib/python3.7/site-packages (from jedi>=0.10->ipython>=5.0.0->ipykernel->notebook->jupyterlab-git) (0.7.1)\n",
      "Requirement already satisfied: wcwidth in /home/pi/.local/lib/python3.7/site-packages (from prompt-toolkit!=3.0.0,!=3.0.1,<3.1.0,>=2.0.0->ipython>=5.0.0->ipykernel->notebook->jupyterlab-git) (0.2.5)\n",
      "bash: jupyter: command not found\n"
     ]
    },
    {
     "ename": "",
     "evalue": "127",
     "output_type": "error",
     "traceback": []
    }
   ],
   "source": [
    "pip3 install jupyterlab-git\n",
    "jupyter labextension install --no-build @jupyterlab/git"
   ]
  },
  {
   "cell_type": "code",
   "execution_count": 4,
   "metadata": {},
   "outputs": [
    {
     "name": "stdout",
     "output_type": "stream",
     "text": [
      "bash: jupyter: command not found\n"
     ]
    },
    {
     "ename": "",
     "evalue": "127",
     "output_type": "error",
     "traceback": []
    }
   ],
   "source": [
    "jupyter --version"
   ]
  },
  {
   "cell_type": "markdown",
   "metadata": {},
   "source": [
    "## Github"
   ]
  },
  {
   "cell_type": "code",
   "execution_count": null,
   "metadata": {},
   "outputs": [],
   "source": [
    "#pip\n",
    "jupyterlab-github\n",
    "# extensions\n"
   ]
  },
  {
   "cell_type": "code",
   "execution_count": null,
   "metadata": {},
   "outputs": [],
   "source": [
    "#pip\n",
    "jupyterlab-github jupyterlab-pullrequests jupyterlab-commenting-service jupyterlab_code_formatter autopep8 jupyterlab_templates ptvsd nbresuse\n",
    "\n",
    "# extensions\n",
    "@jupyterlab/toc @jupyterlab/google-drive @jupyterlab/github @jupyterlab/pullrequests @jupyterlab/debugger@krassowski/jupyterlab-lsp @jupyterlab/shortcutui @jupyterlab/commenting-extension @krassowski/jupyterlab_go_to_definition jupyterlab-code-snippets @jupyter-widgets/jupyterlab-manager @bokeh/jupyter_bokeh jupyterlab-drawio @tableau/query-graphs-jupyterlab-extension @jupyter-widgets/jupyterlab-manager jupyter-leaflet @jupyter-widgets/jupyterlab-manager @ryantam626/jupyterlab_code_formatter jupyterlab-execute-time jupyterlab-topbar-extension jupyterlab-system-monitor @jupyter-voila/jupyterlab-preview jupyterlab-python-file @aquirdturtle/collapsible_headings @ijmbarr/jupyterlab_spellchecker jupyterlab_templates jupyterlab-chart-editor @atoti/jupyterlab-extension jupyterlab-theme-toggle jupyterlab-spreadsheet"
   ]
  },
  {
   "cell_type": "code",
   "execution_count": null,
   "metadata": {},
   "outputs": [],
   "source": [
    "jupyter lab build --dev-build=False --minimize=False"
   ]
  },
  {
   "cell_type": "code",
   "execution_count": null,
   "metadata": {},
   "outputs": [],
   "source": [
    "echo \"check settings for jupyter lab github on github-repo\" | pb push -d $pdb\n",
    "pb push -d $pdb --link https://github.com/jupyterlab/jupyterlab-github"
   ]
  },
  {
   "cell_type": "code",
   "execution_count": null,
   "metadata": {},
   "outputs": [],
   "source": [
    "echo \"check settings for jupyter lab pull-requests on github-repo\" | pb push -d $pdb\n",
    "pb push -d $pdb --link https://github.com/jupyterlab/pull-requests"
   ]
  },
  {
   "cell_type": "code",
   "execution_count": null,
   "metadata": {},
   "outputs": [],
   "source": []
  }
 ],
 "metadata": {
  "kernelspec": {
   "display_name": "Bash",
   "language": "bash",
   "name": "bash"
  },
  "language_info": {
   "codemirror_mode": "shell",
   "file_extension": ".sh",
   "mimetype": "text/x-sh",
   "name": "bash"
  }
 },
 "nbformat": 4,
 "nbformat_minor": 4
}
