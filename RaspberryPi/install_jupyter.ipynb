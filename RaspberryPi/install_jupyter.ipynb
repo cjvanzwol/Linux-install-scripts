{
 "cells": [
  {
   "cell_type": "code",
   "execution_count": null,
   "metadata": {},
   "outputs": [],
   "source": [
    "#!/bin/bash\n",
    "\n",
    "cd ~\n",
    "\n",
    "bash Linux-install-scripts/RaspberryPi/pushbullet"
   ]
  },
  {
   "cell_type": "code",
   "execution_count": null,
   "metadata": {},
   "outputs": [],
   "source": [
    "echo \"Installing python, pip, Jupyter and related other packages\"\n",
    "sudo apt update -qq\n",
    "sudo apt upgrade -qq"
   ]
  },
  {
   "cell_type": "code",
   "execution_count": 5,
   "metadata": {},
   "outputs": [
    {
     "name": "stdout",
     "output_type": "stream",
     "text": [
      "tput: unknown terminal \"unknown\"\n",
      "\n",
      "## Installing the NodeSource Node.js 15.x repo...\n",
      "\n",
      "\n",
      "## Populating apt-get cache...\n",
      "\n",
      "+ apt-get update\n",
      "Get:1 http://raspbian.raspberrypi.org/raspbian buster InRelease [15.0 kB]\n",
      "Hit:2 http://archive.raspberrypi.org/debian buster InRelease                   \n",
      "Hit:3 https://deb.nodesource.com/node_15.x buster InRelease                    \n",
      "Fetched 15.0 kB in 3s (5,964 B/s)\n",
      "Reading package lists... Done\n",
      "\n",
      "## Confirming \"buster\" is supported...\n",
      "\n",
      "+ curl -sLf -o /dev/null 'https://deb.nodesource.com/node_15.x/dists/buster/Release'\n",
      "\n",
      "## Adding the NodeSource signing key to your keyring...\n",
      "\n",
      "+ curl -s https://deb.nodesource.com/gpgkey/nodesource.gpg.key | apt-key add -\n",
      "OK\n",
      "\n",
      "## Creating apt sources list file for the NodeSource Node.js 15.x repo...\n",
      "\n",
      "+ echo 'deb https://deb.nodesource.com/node_15.x buster main' > /etc/apt/sources.list.d/nodesource.list\n",
      "+ echo 'deb-src https://deb.nodesource.com/node_15.x buster main' >> /etc/apt/sources.list.d/nodesource.list\n",
      "\n",
      "## Running `apt-get update` for you...\n",
      "\n",
      "+ apt-get update\n",
      "Hit:1 http://raspbian.raspberrypi.org/raspbian buster InRelease\n",
      "Hit:2 http://archive.raspberrypi.org/debian buster InRelease              \n",
      "Hit:3 https://deb.nodesource.com/node_15.x buster InRelease               \n",
      "Reading package lists... Done                       \n",
      "\n",
      "## Run `sudo apt-get install -y nodejs` to install Node.js 15.x and npm\n",
      "## You may also need development tools to build native addons:\n",
      "     sudo apt-get install gcc g++ make\n",
      "## To install the Yarn package manager, run:\n",
      "     curl -sL https://dl.yarnpkg.com/debian/pubkey.gpg | sudo apt-key add -\n",
      "     echo \"deb https://dl.yarnpkg.com/debian/ stable main\" | sudo tee /etc/apt/sources.list.d/yarn.list\n",
      "     sudo apt-get update && sudo apt-get install yarn\n",
      "\n",
      "\n"
     ]
    }
   ],
   "source": [
    "sudo curl -sL https://deb.nodesource.com/setup_15.x | sudo bash -"
   ]
  },
  {
   "cell_type": "code",
   "execution_count": null,
   "metadata": {},
   "outputs": [
    {
     "name": "stdout",
     "output_type": "stream",
     "text": [
      "Installing python, pip, Jupyter and related other packages\n"
     ]
    }
   ],
   "source": [
    "sudo apt install -q python3 python3-pip python3-venv libffi-dev -y\n",
    "sudo pip3 install -q setuptools cffi\n",
    "pip3 install -q jupyterlab ipywidgets bokeh ipyleaflet atoti voila"
   ]
  },
  {
   "cell_type": "code",
   "execution_count": null,
   "metadata": {},
   "outputs": [],
   "source": [
    "if [[ $(sudo grep -Ril \"\\[Unit\\]\" /etc/systemd/system/jupyter.service) == \"/etc/systemd/system/jupyter.service\" ]]; then\n",
    "\techo \"service file exists: no file created\"\n",
    "else\n",
    "\tsudo tee -a /etc/systemd/system/jupyter.service > /dev/null <<EOT\n",
    "[Unit]\n",
    "Description=Jupyter Lab\n",
    "\n",
    "[Service]\n",
    "Type=simple\n",
    "PIDFile=/run/jupyter.pid\n",
    "ExecStart=/bin/bash -c \"~/.local/bin/jupyter-lab\"\n",
    "User=$USER\n",
    "Group=pi\n",
    "WorkingDirectory=~\n",
    "Restart=always\n",
    "RestartSec=10\n",
    "\n",
    "[Install]\n",
    "WantedBy=multi-user.target\n",
    "EOT\n",
    "fi\n",
    "sudo systemctl enable jupyter.service\n",
    "sudo systemctl daemon-reload"
   ]
  },
  {
   "cell_type": "code",
   "execution_count": null,
   "metadata": {},
   "outputs": [],
   "source": [
    "mkdir ~/.certificates\n",
    "cd ~/.certificates\n",
    "openssl req -x509 -nodes -days 365 -newkey rsa:2048 -keyout jupyter.key -out jupyter.pem\n",
    "\n",
    "openssl req -new -nodes -out server.csr -newkey rsa:2048 -keyout server.key\n",
    "sudo tee -a /etc/systemd/system/jupyter.service > /dev/null <<EOT\n",
    "authorityKeyIdentifier=keyid,issuer\n",
    "basicConstraints=CA:FALSE\n",
    "keyUsage = digitalSignature, nonRepudiation, keyEncipherment, dataEncipherment\n",
    "subjectAltName = @alt_names\n",
    "\n",
    "[alt_names]\n",
    "DNS.1 = example.dom\n",
    "DNS.2 = ex-ample.dom\" >> v3.ext\n",
    "openssl x509 -req -in server.csr -CA jupyter.pem -CAkey jupyter.key -CAcreateserial -out server.crt -days 500 -sha256 -extfile v3.ext\n",
    "openssl pkcs12 -inkey server.key -in server.crt -export -out server.pfx"
   ]
  },
  {
   "cell_type": "code",
   "execution_count": null,
   "metadata": {},
   "outputs": [],
   "source": [
    "cd ~\n",
    "jupyter notebook --generate-config\n",
    "jupyter notebook password\n",
    "\n",
    "echo \"Set up https with instructions on https://jupyter-notebook.readthedocs.io/en/stable/public_server.html#using-ssl-for-encrypted-communication\""
   ]
  }
 ],
 "metadata": {
  "kernelspec": {
   "display_name": "Bash",
   "language": "bash",
   "name": "bash"
  },
  "language_info": {
   "codemirror_mode": "shell",
   "file_extension": ".sh",
   "mimetype": "text/x-sh",
   "name": "bash"
  }
 },
 "nbformat": 4,
 "nbformat_minor": 4
}
